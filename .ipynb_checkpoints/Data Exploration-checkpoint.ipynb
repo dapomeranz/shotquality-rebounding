{
 "cells": [
  {
   "cell_type": "code",
   "execution_count": 21,
   "id": "2d8f6a94",
   "metadata": {},
   "outputs": [
    {
     "data": {
      "image/png": "[encoded data removed]",
      "text/plain": [
       "<Figure size 1000x700 with 1 Axes>"
      ]
     },
     "metadata": {},
     "output_type": "display_data"
    }
   ],
   "source": [
    "import pandas as pd\n",
    "\n",
    "from helpers import plot_basketball_court\n",
    "locations = pd.read_csv('raw-data/train_locs.csv')\n",
    "play_by_play = pd.read_csv('raw-data/train_pbp.csv')\n",
    "\n",
    "#Feels like its cheating the problem at hand to predict based on teams or conferences\n",
    "play_by_play = play_by_play.drop(['team', 'opponent', 'conference', 'opp_conference'], axis=1)\n",
    "\n",
    "#Pivot data to one neat table\n",
    "merged_df = pd.merge(play_by_play, locations, on='id', how='inner')\n",
    "pivot_df = merged_df.pivot(index=['id', 'is_oreb'], columns='annotation_code')\n",
    "\n",
    "#Convert coordinates to only reference one direction of the court\n",
    "\n",
    "plot_basketball_court()\n",
    "\n",
    "\n",
    "#extract some easy features\n",
    "\n",
    "#run a regression"
   ]
  },
  {
   "cell_type": "code",
   "execution_count": null,
   "id": "a78e256a",
   "metadata": {},
   "outputs": [],
   "source": []
  },
  {
   "cell_type": "code",
   "execution_count": null,
   "id": "051d309b",
   "metadata": {},
   "outputs": [],
   "source": []
  }
 ],
 "metadata": {
  "kernelspec": {
   "display_name": "Python 3 (ipykernel)",
   "language": "python",
   "name": "python3"
  },
  "language_info": {
   "codemirror_mode": {
    "name": "ipython",
    "version": 3
   },
   "file_extension": ".py",
   "mimetype": "text/x-python",
   "name": "python",
   "nbconvert_exporter": "python",
   "pygments_lexer": "ipython3",
   "version": "3.10.4"
  }
 },
 "nbformat": 4,
 "nbformat_minor": 5
}
